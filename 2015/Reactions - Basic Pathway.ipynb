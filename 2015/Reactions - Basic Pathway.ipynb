{
 "cells": [
  {
   "cell_type": "markdown",
   "metadata": {},
   "source": [
    "# Basic Pathway"
   ]
  },
  {
   "cell_type": "markdown",
   "metadata": {},
   "source": [
    "In this system we consider that our reactions in the main pathway don't interfere with the environment around it, and vice versa. \n",
    "\n",
    "This is our first trial in modeling the propane producing pathway, and it may help us to understand better how the production works in the real world."
   ]
  },
  {
   "cell_type": "markdown",
   "metadata": {},
   "source": [
    "## Pathway"
   ]
  },
  {
   "cell_type": "markdown",
   "metadata": {},
   "source": [
    "<img style=\"width:50%;height:50%;\" src=\"http://www.biotechnologyforbiofuels.com/content/figures/s13068-015-0231-1-1-l.jpg\">"
   ]
  },
  {
   "cell_type": "code",
   "execution_count": 9,
   "metadata": {
    "collapsed": false
   },
   "outputs": [
    {
     "name": "stdout",
     "output_type": "stream",
     "text": [
      "Populating the interactive namespace from numpy and matplotlib\n"
     ]
    }
   ],
   "source": [
    "%pylab inline\n",
    "import numpy as np\n",
    "import scipy as sp\n",
    "\n",
    "import matplotlib.pyplot as plt"
   ]
  },
  {
   "cell_type": "markdown",
   "metadata": {},
   "source": [
    "## Reactions:"
   ]
  },
  {
   "cell_type": "markdown",
   "metadata": {},
   "source": [
    "$$\\frac{d[Acetoacetyl-CoA]}{dt} =  k_{AtoB}[Acetyl-CoA]^2 - k_{Hbd}[Acetoacetyl-CoA][NADPH]  $$ "
   ]
  },
  {
   "cell_type": "markdown",
   "metadata": {},
   "source": [
    "$$\\frac{d[3-hydroxybutyryl-CoA]}{dt} =  k_{Hbd}[Acetoacetyl-CoA][NADPH] - k_{Crt}[3-hydroxybutyryl-CoA][H_2O]  $$"
   ]
  },
  {
   "cell_type": "markdown",
   "metadata": {},
   "source": [
    "$$\\frac{d[Crotonyl-CoA]}{dt} =  k_{Crt}[3-hydroxybutyryl-CoA][H_2O] - k_{Ter}[Crotonyl-CoA][NADH]  $$"
   ]
  },
  {
   "cell_type": "markdown",
   "metadata": {},
   "source": [
    "$$\\frac{d[Butyryl-CoA]}{dt} =  k_{Ter}[Crotonyl-CoA][NADH] - k_{YciA}[Butyryl-CoA][H_2O]  $$ "
   ]
  },
  {
   "cell_type": "markdown",
   "metadata": {},
   "source": [
    "$$\\frac{d[Butyric-acid]}{dt} =  k_{YciA}[Butyryl-CoA][H_2O] - k_{CAR}[Butyric acid][NADPH][H_2O][ATP] $$"
   ]
  },
  {
   "cell_type": "markdown",
   "metadata": {},
   "source": [
    "$$\\frac{d[Butyraldehyde]}{dt} = k_{CAR}[Butyric acid][NADPH][H_2O][ATP] - k_{ADO}[Butyraldehyde][NADPH]^2[H_+]^2[O_2] $$"
   ]
  },
  {
   "cell_type": "markdown",
   "metadata": {},
   "source": [
    "$$\\frac{d[Propane]}{dt} = k_{ADO}[Butyraldehyde][NADPH]^2[H+]^2[O2] $$"
   ]
  },
  {
   "cell_type": "code",
   "execution_count": 29,
   "metadata": {
    "collapsed": false
   },
   "outputs": [
    {
     "data": {
      "text/plain": [
       "<matplotlib.legend.Legend at 0x107344eb8>"
      ]
     },
     "execution_count": 29,
     "metadata": {},
     "output_type": "execute_result"
    },
    {
     "data": {
      "image/png": "[encoded data removed]",
      "text/plain": [
       "<matplotlib.figure.Figure at 0x10724acc0>"
      ]
     },
     "metadata": {},
     "output_type": "display_data"
    }
   ],
   "source": [
    "# Define constants\n",
    "K_AtoB = 1\n",
    "K_Hbd = 1\n",
    "K_Crt = 1\n",
    "K_Ter = 1\n",
    "K_YciA = 1\n",
    "K_CAR = 1\n",
    "K_ADO = 1\n",
    "H_2O = 1\n",
    "ATP = 1\n",
    "\n",
    "# A = Acetoacetyl-CoA\n",
    "# B = Acetyl-CoA\n",
    "# C = NADPH\n",
    "# D = 3-hydroxybutyryl-CoA\n",
    "# E = Crotonyl-CoA\n",
    "# F = Butyryl-CoA\n",
    "# G = Butyric-acid\n",
    "# H = Butyraldehyde\n",
    "# I = H_+\n",
    "# J = O_2\n",
    "\n",
    "# Define system in terms of separated differential equations\n",
    "def r1(A,B,C):\n",
    "    return K_AtoB*A - K_Hbd*B*C\n",
    "\n",
    "def r2(A,C,D):\n",
    "    return K_Hbd*A*C - K_Crt*D*H_2O\n",
    "\n",
    "def r3(C,D,E):\n",
    "    return  K_Crt*D*H_2O - K_Ter*E*C\n",
    "\n",
    "def r4(E,C,F):\n",
    "    return K_Ter*E*C - K_YciA*F*H_2O\n",
    "\n",
    "def r5(F,G,C):\n",
    "    return K_YciA*F*H_2O - K_CAR*G*C*H_2O*ATP\n",
    "\n",
    "def r6(G,C,H,I,J):\n",
    "    return K_CAR*G*C*H_2O*ATP - K_ADO*H*C**2*I**2*J**2\n",
    "\n",
    "def r7(H,C,I,J):\n",
    "    return K_ADO*H*C**2*I**2*J**2\n",
    "\n",
    "\n",
    "# initialize lists containing values\n",
    "a = []\n",
    "b = []\n",
    "c = []\n",
    "d = []\n",
    "e = []\n",
    "f = []\n",
    "g = []\n",
    "\n",
    "\n",
    "#iv1, iv2 = initial values, dt = timestep, time = range\n",
    "def sys(iv1, iv2, iv3, iv4, iv5, iv6, iv7, dt, time):\n",
    "    # initial values:\n",
    "    a.append(iv1)\n",
    "    b.append(iv2)\n",
    "    c.append(iv3)\n",
    "    d.append(iv4)\n",
    "    e.append(iv5)\n",
    "    f.append(iv6)\n",
    "    g.append(iv7)\n",
    "    #z.append(iv3)\n",
    "    # compute and fill lists\n",
    "    for i in range(time):\n",
    "        a.append(a[i] + (r1(1,a[i],1)) * dt)\n",
    "        b.append(b[i] + (r2(a[i],1,b[i])) * dt)\n",
    "        c.append(c[i] + (r3(1,b[i],c[i])) * dt)\n",
    "        d.append(d[i] + (r4(c[i],1,d[i])) * dt)\n",
    "        e.append(e[i] + (r5(d[i],e[i],1)) * dt)\n",
    "        f.append(f[i] + (r6(e[i],1,f[i],1,1)) * dt)\n",
    "        g.append(g[i] + (r7(f[i],1,1,1)) * dt)\n",
    "        #z.append(z[i] + (h(x[i],y[i],z[i])) * dt)\n",
    "    return a, b, c, d, e, f, g\n",
    "\n",
    "sys(100, 80, 70, 60, 50, 40, 0,  0.01, 2000)\n",
    "\n",
    "#plot\n",
    "fig = plt.figure(figsize=(15,5))\n",
    "fig.subplots_adjust(wspace = 0.5, hspace = 0.3)\n",
    "ax1 = fig.add_subplot(1,2,1)\n",
    "#ax2 = fig.add_subplot(1,2,2)\n",
    "\n",
    "ax1.plot(a, 'r-', label='Acetoacetyl-CoA')\n",
    "ax1.plot(b, 'b-', label='3-hydroxybutyryl-CoA')\n",
    "ax1.plot(c, 'g-', label='Crotonyl-CoA')\n",
    "ax1.plot(d, 'c-', label='Butyryl-CoA')\n",
    "ax1.plot(e, 'm-', label='Butyric-acid')\n",
    "ax1.plot(f, 'y-', label='Butyraldehyde')\n",
    "ax1.plot(g, 'k-', label='Propane')\n",
    "\n",
    "ax1.set_title(\"Dynamics in time\")\n",
    "ax1.set_xlabel(\"time\")\n",
    "ax1.grid()\n",
    "ax1.legend(loc='best')\n",
    "\n",
    "#ax2.plot(x, y, color=\"blue\")\n",
    "#ax2.set_xlabel(\"x\")\n",
    "#ax2.set_ylabel(\"y\")  \n",
    "#ax2.set_title(\"Phase space\")\n",
    "#ax2.grid()"
   ]
  },
  {
   "cell_type": "code",
   "execution_count": null,
   "metadata": {
    "collapsed": true
   },
   "outputs": [],
   "source": []
  }
 ],
 "metadata": {
  "kernelspec": {
   "display_name": "Python 3",
   "language": "python",
   "name": "python3"
  },
  "language_info": {
   "codemirror_mode": {
    "name": "ipython",
    "version": 3
   },
   "file_extension": ".py",
   "mimetype": "text/x-python",
   "name": "python",
   "nbconvert_exporter": "python",
   "pygments_lexer": "ipython3",
   "version": "3.4.3"
  }
 },
 "nbformat": 4,
 "nbformat_minor": 0
}
