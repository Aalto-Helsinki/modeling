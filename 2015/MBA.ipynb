{
 "cells": [
  {
   "cell_type": "markdown",
   "metadata": {},
   "source": [
    "# Metabolic control analysis"
   ]
  },
  {
   "cell_type": "markdown",
   "metadata": {},
   "source": [
    "In biochemistry, Michaelis–Menten kinetics is one of the best-known models of enzyme kinetics. The model takes the form of an equation describing the rate of enzymatic reactions, by relating reaction rate v to [S], the concentration of a substrate S. Its formula is given by\n",
    "\n",
    " $$v = \\frac{d [P]}{d t} = \\frac{ V_\\max {[S]}}{K_\\mathrm{M} + [S]}.$$\n",
    " \n",
    "Here, $V_\\max$ represents the maximum rate achieved by the system, at maximum (saturating) substrate concentrations. The Michaelis constant $K_\\mathrm{M}$ is the substrate concentration at which the reaction rate is half of $V_\\max$. Biochemical reactions involving a single substrate are often assumed to follow Michaelis–Menten kinetics, without regard to the model's underlying assumptions.\n",
    "\n",
    "Rewriting Michaelis' equation, we get\n",
    "\n",
    " $$ln(v) = ln(V_\\max {[S]}) - ln(K_\\mathrm{M} + [S]) = ln(V_\\max) + ln({[S]}) - ln(K_\\mathrm{M} + [S])$$\n",
    " \n",
    "This implies that the elasticity coefficient of this reaction is\n",
    "\n",
    "$$ \\varepsilon^v_{[S]} = \\frac{\\partial \\ln v}{\\partial \\ln S} = 1 - \\frac{\\partial ln(K_\\mathrm{M} + [S])}{\\partial \\ln [S]} = 1 - \\frac{\\partial ln(K_\\mathrm{M} + [S])}{\\partial (K_\\mathrm{M} + [S])} \\frac{\\partial (K_\\mathrm{M} + [S])}{\\partial \\ln [S]} = 1 - \\frac{1}{K_\\mathrm{M} + [S]} \\frac{\\partial [S]}{\\partial \\ln [S]} = 1 - \\frac{[S]}{K_\\mathrm{M} + [S]} = \\frac{K_\\mathrm{M}}{K_\\mathrm{M} + [S]}$$\n",
    "\n",
    "The unscaled elasticities are often depicted in matrix form, called the elasticity matrix. Given a network with m molecular species and n reactions, then the elasticity matrix is defined as:\n",
    "\n",
    "\n",
    "$$\\mathbf{\\varepsilon} =\n",
    "\\begin{bmatrix} \n",
    "  \\dfrac{\\partial v_1}{\\partial S_1} & \\cdots & \\dfrac{\\partial v_1}{\\partial S_m} \\\\ \\vdots & \\ddots & \\vdots \\\\ \\dfrac{\\partial v_n}{\\partial S_1} & \\cdots & \\dfrac{\\partial v_n}{\\partial S_m}  \n",
    "\\end{bmatrix}. $$\n"
   ]
  },
  {
   "cell_type": "code",
   "execution_count": 4,
   "metadata": {
    "collapsed": false
   },
   "outputs": [
    {
     "name": "stdout",
     "output_type": "stream",
     "text": [
      "Populating the interactive namespace from numpy and matplotlib\n"
     ]
    }
   ],
   "source": [
    "%pylab inline\n",
    "import numpy as np"
   ]
  },
  {
   "cell_type": "code",
   "execution_count": 33,
   "metadata": {
    "collapsed": false
   },
   "outputs": [
    {
     "data": {
      "text/plain": [
       "array([[ 0.00467801,  0.        ,  0.        ,  0.        ,  0.        ,\n",
       "         0.        ,  0.        ],\n",
       "       [ 0.        ,  0.09090909,  0.        ,  0.        ,  0.        ,\n",
       "         0.        ,  0.        ],\n",
       "       [ 0.        ,  0.        ,  0.09090909,  0.        ,  0.        ,\n",
       "         0.        ,  0.        ],\n",
       "       [ 0.        ,  0.        ,  0.        ,  0.09090909,  0.        ,\n",
       "         0.        ,  0.        ],\n",
       "       [ 0.        ,  0.        ,  0.        ,  0.        ,  0.09090909,\n",
       "         0.        ,  0.        ],\n",
       "       [ 0.        ,  0.        ,  0.        ,  0.        ,  0.        ,\n",
       "         0.09090909,  0.        ],\n",
       "       [ 0.        ,  0.        ,  0.        ,  0.        ,  0.        ,\n",
       "         0.        ,  0.09090909]])"
      ]
     },
     "execution_count": 33,
     "metadata": {},
     "output_type": "execute_result"
    }
   ],
   "source": [
    "# Create elasticity matrix. 7 molecules and 7 reactions\n",
    "# Not considering the propane, since it doesnt react to another element.\n",
    "e = zeros((7, 7))\n",
    "\n",
    "# Define 7 K_m constants\n",
    "K_AtoB = 0.47\n",
    "K_Hbd = 1\n",
    "K_Crt = 1\n",
    "K_Ter = 1\n",
    "K_YciA = 1\n",
    "K_CAR = 1\n",
    "K_ADO = 1\n",
    "\n",
    "# Define 8 molecule concentrations\n",
    "# A = Acetoacetyl-CoA\n",
    "# B = Acetyl-CoA\n",
    "# C = NADPH\n",
    "# D = 3-hydroxybutyryl-CoA\n",
    "# E = Crotonyl-CoA\n",
    "# F = Butyryl-CoA\n",
    "# G = Butyric-acid\n",
    "# H = Butyraldehyde\n",
    "\n",
    "A = 100\n",
    "B = 10\n",
    "C = 10\n",
    "D = 10\n",
    "E = 10\n",
    "F = 10\n",
    "G = 10\n",
    "H = 10\n",
    "\n",
    "# Write elasticity in the matrix\n",
    "e[0,0] = K_AtoB/(K_AtoB+A)\n",
    "e[1,1] = K_Hbd/(K_Hbd+B)\n",
    "e[2,2] = K_Crt/(K_Crt+C)\n",
    "e[3,3] = K_Ter/(K_Ter+D)\n",
    "e[4,4] = K_YciA/(K_YciA+E)\n",
    "e[5,5] = K_CAR/(K_CAR+F)\n",
    "e[6,6] = K_ADO/(K_ADO+G)\n",
    "\n",
    "\n",
    "\n",
    "\n",
    "e"
   ]
  },
  {
   "cell_type": "code",
   "execution_count": 20,
   "metadata": {
    "collapsed": false
   },
   "outputs": [
    {
     "name": "stdout",
     "output_type": "stream",
     "text": [
      "0\n"
     ]
    }
   ],
   "source": [
    "print(b[0,1])"
   ]
  },
  {
   "cell_type": "code",
   "execution_count": 52,
   "metadata": {
    "collapsed": false
   },
   "outputs": [
    {
     "name": "stdout",
     "output_type": "stream",
     "text": [
      "(6, 4)\n",
      "[[ 0.  0.  0.  0.]\n",
      " [ 0.  0.  0.  0.]\n",
      " [ 0.  0.  0.  0.]\n",
      " [ 0.  0.  0.  0.]\n",
      " [ 0.  0.  0.  0.]\n",
      " [ 0.  0.  0.  0.]]\n"
     ]
    }
   ],
   "source": [
    "g = np.matrix([[1, 0, 0, 0, 0, 0], [1, 0, 0, 0, 0, 0], [1, 0, 0.25, -0.25, 0.25, -0.25], [1, 0, -0.25, 0.25, -0.25, 0.25], [1, 0, 0.25, -0.25, 0.25, -0.25], [1, 0, -0.25, 0.25, -0.25, 0.25]])\n",
    "f = np.matrix([[0, 0, 0, 0], [1, 0, 0, 0], [0, 2, -1, 0], [0, 2, 0, -1], [0, 0, 1, 0], [0, 0, 0, 1]])\n",
    "m = g*f\n",
    "print(m.shape)\n",
    "print(m)"
   ]
  },
  {
   "cell_type": "code",
   "execution_count": null,
   "metadata": {
    "collapsed": true
   },
   "outputs": [],
   "source": []
  }
 ],
 "metadata": {
  "kernelspec": {
   "display_name": "Python 3",
   "language": "python",
   "name": "python3"
  },
  "language_info": {
   "codemirror_mode": {
    "name": "ipython",
    "version": 3
   },
   "file_extension": ".py",
   "mimetype": "text/x-python",
   "name": "python",
   "nbconvert_exporter": "python",
   "pygments_lexer": "ipython3",
   "version": "3.4.3"
  }
 },
 "nbformat": 4,
 "nbformat_minor": 0
}
