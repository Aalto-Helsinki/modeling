{
 "cells": [
  {
   "cell_type": "markdown",
   "metadata": {},
   "source": [
    "## Main Pathway"
   ]
  },
  {
   "cell_type": "markdown",
   "metadata": {},
   "source": [
    "### Introduction\n",
    "\n",
    "Given some pre-defined parameters, we wanted to do implement a model that had an unique result every time we would simulate the environment. This could give us a powerful tool to understand how those pre-defined parameters could affect our model, and how important are the initial conditions in our system."
   ]
  },
  {
   "cell_type": "markdown",
   "metadata": {},
   "source": [
    "### Assumptions\n",
    "\n",
    "<ul>\n",
    "  <li>Our reactions in the main pathway don't interfere with the environment around them, and vice versa.</li>\n",
    "</ul>"
   ]
  },
  {
   "cell_type": "markdown",
   "metadata": {},
   "source": [
    "### Reactions\n",
    "\n",
    "<div style=\"width: 900px;\n",
    "    height: 400px;\n",
    "    overflow: hidden;\">\n",
    "<img style=\"\n",
    "    margin: 0 0 0 -170px;\" src=\"http://i.imgur.com/BdWlYUy.jpg\">\n",
    "</div>"
   ]
  },
  {
   "cell_type": "markdown",
   "metadata": {},
   "source": [
    "### Chemical Species\n",
    "\n",
    "|  Name           |   Decription  |\n",
    "|:---------------:|:-------------:|\n",
    "| Acetoacetyl-CoA |  des. |\n",
    "| Acetyl-CoA      |  des. |\n",
    "| NADPH           | des.  |\n",
    "|3-hydroxybutyryl-CoA|  des. |\n",
    "|Crotonyl-CoA|  des.|\n",
    "|Butyryl-CoA|  des. |\n",
    "|Butyric-acid|  des. |\n",
    "|Butyraldehyde|  des. |\n",
    "|H+|  des. |\n",
    "|O2|  des. |\n",
    "|NADH|  des. |\n",
    "|K_CARholo|  des. |\n",
    "|H2O2|  des. |"
   ]
  },
  {
   "cell_type": "markdown",
   "metadata": {},
   "source": [
    "### Equations\n",
    "\n",
    "$$\\frac{d[Acetoacetyl-CoA]}{dt} =  k_{AtoB}[Acetyl-CoA]^2 - k_{Hbd}[Acetoacetyl-CoA][NADPH]  $$ \n",
    "\n",
    "$$\\frac{d[3-hydroxybutyryl-CoA]}{dt} =  k_{Hbd}[Acetoacetyl-CoA][NADPH] - k_{Crt}[3-hydroxybutyryl-CoA][H_2O]  $$\n",
    "\n",
    "$$\\frac{d[Crotonyl-CoA]}{dt} =  k_{Crt}[3-hydroxybutyryl-CoA][H_2O] - k_{Ter}[Crotonyl-CoA][NADH]  $$\n",
    "\n",
    "$$\\frac{d[Butyryl-CoA]}{dt} =  k_{Ter}[Crotonyl-CoA][NADH] - k_{YciA}[Butyryl-CoA][H_2O]  $$ \n",
    "\n",
    "$$\\frac{d[Butyric-acid]}{dt} =  k_{YciA}[Butyryl-CoA][H_2O] - k_{CAR}[Butyric acid][NADPH][H_2O][ATP] $$\n",
    "\n",
    "$$\\frac{d[Butyraldehyde]}{dt} = k_{CAR}[Butyric acid][NADPH][H_2O][ATP] - k_{ADO}[Butyraldehyde][NADPH]^2[H_+]^2[O_2] $$\n",
    "\n",
    "$$\\frac{d[Propane]}{dt} = k_{ADO}[Butyraldehyde][NADPH]^2[H+]^2[O2] $$\n",
    "\n",
    "$$\\frac {d[CAR_{holo}]}{dt} = k_{sfp}[CAR_{apo}][CoA]-k_{CAR}[butyricacid][NADPH][H_2O][ATP] $$\n",
    "\n",
    "$$\\frac{d[PetF_{red}]}{dt} = k_{Fpr}[NADPH]-k_{ADO}[Butyraldehyde][NADPH]^2[H+]^2[O2] $$\n",
    "\n",
    "$$ \\frac {d[H_2O_2]}{dt} = k_{Fpr}[NADPH]-k_{KatE}[H_2O_2] $$\n",
    "\n",
    "$$\\frac{d[NADPH]}{dt} = -k_{Hbd}[acetoacetyl-CoA][NADPH]-k_{CAR}[butyricacid][ATP]-k_{ADO}[butyraldehyde][NADPH]^2[H+]^2[O_2] $$\n",
    "\n",
    "$$ \\frac{d[NADH]}{dt} = -k_{ter}[crotonyl-CoA][NADH] $$"
   ]
  },
  {
   "cell_type": "markdown",
   "metadata": {},
   "source": [
    "### Results"
   ]
  },
  {
   "cell_type": "markdown",
   "metadata": {},
   "source": [
    "### Comparing with Lab Data"
   ]
  },
  {
   "cell_type": "code",
   "execution_count": null,
   "metadata": {
    "collapsed": true
   },
   "outputs": [],
   "source": []
  }
 ],
 "metadata": {
  "kernelspec": {
   "display_name": "Python 3",
   "language": "python",
   "name": "python3"
  },
  "language_info": {
   "codemirror_mode": {
    "name": "ipython",
    "version": 3
   },
   "file_extension": ".py",
   "mimetype": "text/x-python",
   "name": "python",
   "nbconvert_exporter": "python",
   "pygments_lexer": "ipython3",
   "version": "3.4.3"
  }
 },
 "nbformat": 4,
 "nbformat_minor": 0
}
