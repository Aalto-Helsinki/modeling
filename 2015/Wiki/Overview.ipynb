{
 "cells": [
  {
   "cell_type": "markdown",
   "metadata": {},
   "source": [
    "# Model Overview"
   ]
  },
  {
   "cell_type": "markdown",
   "metadata": {},
   "source": [
    "In our mathematical model our goal is to grasp the important concepts underlying the experiments made in the lab, and to see how those concepts could help us produce more propane. By having a better understading of the ideas that govern our project, we could see the influence of each compund in the reaction pathway and have a basis to make decisions that would have a long term impact in our results. \n",
    "\n",
    "We separated our modeling in four modules:"
   ]
  },
  {
   "cell_type": "markdown",
   "metadata": {},
   "source": [
    "### 1. Derministic modeling of the reaction pathway\n",
    "\n",
    "Finding bottlenecks in our reactions, identifying which substrates could be overproduced, and comprehending better the role each component, as the substrates concentrations, plays in our pathway are a few of the reasons we decided to do a deterministic model. With the help of differential equations applied to each reaction, we could have simultaneously a specific and a broad view of our pathway. \n",
    "\n",
    "<a>View More</a>"
   ]
  },
  {
   "cell_type": "markdown",
   "metadata": {},
   "source": [
    "### 2. Sensitivity Analysis\n",
    "\n",
    "We wanted to go further in our understanding of the main reaction pathway. By completing our deterministic model, it became easier for us to interpret how each substrate affects another one in our system. This is crucial for us to then invest more resources in those substrates that affect the most our propane production, the main goal of this project.\n",
    "\n",
    "<a>View More</a>"
   ]
  },
  {
   "cell_type": "markdown",
   "metadata": {},
   "source": [
    "### 3. Stability Analysis\n",
    "\n",
    "Maybe by causing a little change in our substrates concentrations the propane production could suddenly stop. In order to understand if this would be plausible, we perfomed a stability analysis of our reaction. To conclude these calculations, we used again the ideas behind our deterministic modeling. \n",
    "\n",
    "<a>View More</a>"
   ]
  },
  {
   "cell_type": "markdown",
   "metadata": {},
   "source": [
    "### 4. Stochastic modeling of the reactions between enzymes and substrates\n",
    "\n",
    "After reacting with a single enzyme, the transformed substrate could need an enzyme that is further away of it to become our wanted product. This idea led us to demonstrate with a mathematical model that, by having more enzymes scaffolded, substrates could be transformed faster to the last product. In order to increase the amount of propane, we then implemented the scaffolding with the last two enzymes of our main reaction pathway.\n",
    "\n",
    "<a>View More</a>"
   ]
  },
  {
   "cell_type": "code",
   "execution_count": null,
   "metadata": {
    "collapsed": true
   },
   "outputs": [],
   "source": []
  }
 ],
 "metadata": {
  "kernelspec": {
   "display_name": "Python 3",
   "language": "python",
   "name": "python3"
  },
  "language_info": {
   "codemirror_mode": {
    "name": "ipython",
    "version": 3
   },
   "file_extension": ".py",
   "mimetype": "text/x-python",
   "name": "python",
   "nbconvert_exporter": "python",
   "pygments_lexer": "ipython3",
   "version": "3.4.3"
  }
 },
 "nbformat": 4,
 "nbformat_minor": 0
}
