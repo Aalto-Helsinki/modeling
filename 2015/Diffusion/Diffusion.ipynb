{
 "cells": [
  {
   "cell_type": "markdown",
   "metadata": {},
   "source": [
    "## Main Ideas"
   ]
  },
  {
   "cell_type": "markdown",
   "metadata": {},
   "source": [
    "Fick's Law gives us that\n",
    "\n",
    "$$ \\frac{d [P]_i(t)}{dt} = -\\frac{D([P]_i(t) - [P]_o(t))}{A} $$\n",
    "\n",
    "Since propane is taken out of the outside area, we can consider that $ [P]_o(t) = 0 $, for every $t$.\n",
    "\n",
    "This then gives us that \n",
    "\n",
    "$$ \\frac{d [P]_i(t)}{dt} = -\\frac{D([P]_i(t))}{A}. $$\n",
    "\n",
    "Solving the equation, we get\n",
    "\n",
    "$$ -\\frac{Dt}{A} = log([P]_i(t)) \\Longleftrightarrow [P]_i(t) = e^{-\\frac{Dt}{A}} $$\n",
    "\n",
    "For the diffusion of propane in 40°C, we get that $ D = 4.397$ x $ 10^{-5} m^{2}/s$ and $ A = 10^{-4} m^{2}$"
   ]
  },
  {
   "cell_type": "code",
   "execution_count": 30,
   "metadata": {
    "collapsed": true
   },
   "outputs": [],
   "source": [
    "%matplotlib inline\n",
    "import numpy as np\n",
    "import scipy as sp\n",
    "\n",
    "import matplotlib.pyplot as plt"
   ]
  },
  {
   "cell_type": "code",
   "execution_count": 31,
   "metadata": {
    "collapsed": false
   },
   "outputs": [
    {
     "data": {
      "image/png": "[encoded data removed]",
      "text/plain": [
       "<matplotlib.figure.Figure at 0x110451790>"
      ]
     },
     "metadata": {},
     "output_type": "display_data"
    }
   ],
   "source": [
    "D = 4.397*10**(-5)\n",
    "A = 10**(-4)\n",
    "\n",
    "# evenly sampled time at 200ms intervals\n",
    "t = np.arange(0., 100, 0.2)\n",
    "\n",
    "# red dashes, blue squares and green triangles\n",
    "plt.plot(t, np.exp(-D*t/A), 'b')\n",
    "plt.show()"
   ]
  },
  {
   "cell_type": "code",
   "execution_count": null,
   "metadata": {
    "collapsed": true
   },
   "outputs": [],
   "source": []
  }
 ],
 "metadata": {
  "kernelspec": {
   "display_name": "Python 2",
   "language": "python",
   "name": "python2"
  },
  "language_info": {
   "codemirror_mode": {
    "name": "ipython",
    "version": 2
   },
   "file_extension": ".py",
   "mimetype": "text/x-python",
   "name": "python",
   "nbconvert_exporter": "python",
   "pygments_lexer": "ipython2",
   "version": "2.7.6"
  }
 },
 "nbformat": 4,
 "nbformat_minor": 0
}
