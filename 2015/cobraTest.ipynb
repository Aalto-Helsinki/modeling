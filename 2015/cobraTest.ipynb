{
 "cells": [
  {
   "cell_type": "code",
   "execution_count": 8,
   "metadata": {
    "collapsed": false
   },
   "outputs": [
    {
     "name": "stdout",
     "output_type": "stream",
     "text": [
      "E. coli test files: \n",
      "ecoli_json, ecoli_mat, ecoli_pickle, ecoli_sbml\n",
      "\n",
      "Salmonella test files: \n",
      "salmonella_fbc_sbml, salmonella_pickle, salmonella_sbml\n"
     ]
    }
   ],
   "source": [
    "import cobra.test\n",
    "\n",
    "print(\"E. coli test files: \")\n",
    "print(\", \".join([i for i in dir(cobra.test) if i.startswith(\"ecoli\")]))\n",
    "print(\"\")\n",
    "print(\"Salmonella test files: \")\n",
    "print(\", \".join([i for i in dir(cobra.test) if i.startswith(\"salmonella\")]))\n",
    "\n",
    "salmonella_model = cobra.test.create_test_model(\"salmonella\")"
   ]
  },
  {
   "cell_type": "code",
   "execution_count": 19,
   "metadata": {
    "collapsed": false,
    "scrolled": false
   },
   "outputs": [
    {
     "name": "stdout",
     "output_type": "stream",
     "text": [
      "0 reactions in initial model\n",
      "0 metabolites in initial model\n",
      "0 genes in initial model\n",
      "1 reaction in model\n",
      "6 metabolites in model\n",
      "2 genes in model\n"
     ]
    }
   ],
   "source": [
    "from cobra import Model, Reaction, Metabolite\n",
    "# Best practise: SBML compliant IDs\n",
    "cobra_model = Model('example_cobra_model')\n",
    "\n",
    "reaction = Reaction('3OAS140')\n",
    "reaction.name = '3 oxoacyl acyl carrier protein synthase n C140 '\n",
    "reaction.subsystem = 'Cell Envelope Biosynthesis'\n",
    "reaction.lower_bound = 0.  # This is the default\n",
    "reaction.upper_bound = 1000.  # This is the default\n",
    "reaction.objective_coefficient = 0. # this is the default'\n",
    "\n",
    "ACP_c = Metabolite('ACP_c', formula='C11H21N2O7PRS',\n",
    "    name='acyl-carrier-protein', compartment='c')\n",
    "omrsACP_c = Metabolite('3omrsACP_c', formula='C25H45N2O9PRS',\n",
    "    name='3-Oxotetradecanoyl-acyl-carrier-protein', compartment='c')\n",
    "co2_c = Metabolite('co2_c', formula='CO2', name='CO2', compartment='c')\n",
    "malACP_c = Metabolite('malACP_c', formula='C14H22N2O10PRS',\n",
    "    name='Malonyl-acyl-carrier-protein', compartment='c')\n",
    "h_c = Metabolite('h_c', formula='H', name='H', compartment='c')\n",
    "ddcaACP_c = Metabolite('ddcaACP_c', formula='C23H43N2O8PRS',\n",
    "    name='Dodecanoyl-ACP-n-C120ACP', compartment='c')\n",
    "\n",
    "\n",
    "reaction.add_metabolites({malACP_c: -1.0,\n",
    "                          h_c: -1.0,\n",
    "                          ddcaACP_c: -1.0,\n",
    "                          co2_c: 1.0,\n",
    "                          ACP_c: 1.0,\n",
    "                          omrsACP_c: 1.0})\n",
    "\n",
    "\n",
    "reaction.reaction  # This gives a string representation of the reaction\n",
    "\n",
    "reaction.gene_reaction_rule = '( STM2378  or STM1197 )'\n",
    "reaction.genes\n",
    "\n",
    "print('%i reactions in initial model' % len(cobra_model.reactions))\n",
    "print('%i metabolites in initial model' % len(cobra_model.metabolites))\n",
    "print('%i genes in initial model' % len(cobra_model.genes))\n",
    "\n",
    "cobra_model.add_reaction(reaction)\n",
    "\n",
    "# Now there are things in the model\n",
    "print('%i reaction in model' % len(cobra_model.reactions))\n",
    "print('%i metabolites in model' % len(cobra_model.metabolites))\n",
    "print('%i genes in model' % len(cobra_model.genes))"
   ]
  },
  {
   "cell_type": "code",
   "execution_count": 20,
   "metadata": {
    "collapsed": false
   },
   "outputs": [
    {
     "name": "stdout",
     "output_type": "stream",
     "text": [
      "Reactions\n",
      "---------\n",
      "<Reaction 3OAS140 at 0x118365048> : malACP_c + ddcaACP_c + h_c --> 3omrsACP_c + co2_c + ACP_c\n",
      "Metabolites\n",
      "-----------\n",
      "<Metabolite malACP_c at 0x118361f28> : C14H22N2O10PRS\n",
      "<Metabolite 3omrsACP_c at 0x118368550> : C25H45N2O9PRS\n",
      "<Metabolite ddcaACP_c at 0x118375e80> : C23H43N2O8PRS\n",
      "<Metabolite h_c at 0x118361da0> : H\n",
      "<Metabolite co2_c at 0x1183610b8> : CO2\n",
      "<Metabolite ACP_c at 0x1183683c8> : C11H21N2O7PRS\n",
      "Genes\n",
      "-----\n",
      "<Gene STM2378 at 0x118375f28> is associated with reactions: <Reaction 3OAS140 at 0x118365048>\n",
      "<Gene STM1197 at 0x118375c50> is associated with reactions: <Reaction 3OAS140 at 0x118365048>\n"
     ]
    }
   ],
   "source": [
    "# Iterate through the the objects in the model\n",
    "print(\"Reactions\")\n",
    "print(\"---------\")\n",
    "for x in cobra_model.reactions:\n",
    "    print(\"%s : %s\" % (repr(x), x.reaction))\n",
    "print(\"Metabolites\")\n",
    "print(\"-----------\")\n",
    "for x in cobra_model.metabolites:\n",
    "    print('%s : %s' % (repr(x), x.formula))\n",
    "print(\"Genes\")\n",
    "print(\"-----\")\n",
    "for x in cobra_model.genes:\n",
    "    reactions_list_str = \", \".join((repr(i) for i in x.reactions))\n",
    "    print(\"%s is associated with reactions: %s\" % (repr(x), reactions_list_str))"
   ]
  },
  {
   "cell_type": "code",
   "execution_count": null,
   "metadata": {
    "collapsed": true
   },
   "outputs": [],
   "source": []
  }
 ],
 "metadata": {
  "kernelspec": {
   "display_name": "Python 3",
   "language": "python",
   "name": "python3"
  },
  "language_info": {
   "codemirror_mode": {
    "name": "ipython",
    "version": 3
   },
   "file_extension": ".py",
   "mimetype": "text/x-python",
   "name": "python",
   "nbconvert_exporter": "python",
   "pygments_lexer": "ipython3",
   "version": "3.4.3"
  }
 },
 "nbformat": 4,
 "nbformat_minor": 0
}
