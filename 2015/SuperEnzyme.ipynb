{
 "cells": [
  {
   "cell_type": "code",
   "execution_count": 109,
   "metadata": {
    "collapsed": false
   },
   "outputs": [
    {
     "name": "stdout",
     "output_type": "stream",
     "text": [
      "Populating the interactive namespace from numpy and matplotlib\n"
     ]
    },
    {
     "name": "stderr",
     "output_type": "stream",
     "text": [
      "WARNING: pylab import has clobbered these variables: ['norm', 'sqrt']\n",
      "`%matplotlib` prevents importing * from pylab and numpy\n"
     ]
    }
   ],
   "source": [
    "\"\"\"\n",
    "brownian() implements one dimensional Brownian motion (i.e. the Wiener process).\n",
    "\"\"\"\n",
    "%pylab inline\n",
    "# File: brownian.py\n",
    "from math import sqrt\n",
    "from scipy.stats import norm\n",
    "import numpy as np\n",
    "\n",
    "\n",
    "def brownian(x0, n, dt, delta, radius, out=None):\n",
    "    \"\"\"\\\n",
    "    Generate an instance of Brownian motion (i.e. the Wiener process):\n",
    "\n",
    "        X(t) = X(0) + N(0, delta**2 * t; 0, t)\n",
    "\n",
    "    where N(a,b; t0, t1) is a normally distributed random variable with mean a and\n",
    "    variance b.  The parameters t0 and t1 make explicit the statistical\n",
    "    independence of N on different time intervals; that is, if [t0, t1) and\n",
    "    [t2, t3) are disjoint intervals, then N(a, b; t0, t1) and N(a, b; t2, t3)\n",
    "    are independent.\n",
    "    \n",
    "    Written as an iteration scheme,\n",
    "\n",
    "        X(t + dt) = X(t) + N(0, delta**2 * dt; t, t+dt)\n",
    "\n",
    "\n",
    "    If `x0` is an array (or array-like), each value in `x0` is treated as\n",
    "    an initial condition, and the value returned is a numpy array with one\n",
    "    more dimension than `x0`.\n",
    "\n",
    "    Arguments\n",
    "    ---------\n",
    "    x0 : float or numpy array (or something that can be converted to a numpy array\n",
    "         using numpy.asarray(x0)).\n",
    "        The initial condition(s) (i.e. position(s)) of the Brownian motion.\n",
    "    n : int\n",
    "        The number of steps to take.\n",
    "    dt : float\n",
    "        The time step.\n",
    "    delta : float\n",
    "        delta determines the \"speed\" of the Brownian motion.  The random variable\n",
    "        of the position at time t, X(t), has a normal distribution whose mean is\n",
    "        the position at time t=0 and whose variance is delta**2*t.\n",
    "    out : numpy array or None\n",
    "        If `out` is not None, it specifies the array in which to put the\n",
    "        result.  If `out` is None, a new numpy array is created and returned.\n",
    "\n",
    "    Returns\n",
    "    -------\n",
    "    A numpy array of floats with shape `x0.shape + (n,)`.\n",
    "    \n",
    "    Note that the initial value `x0` is not included in the returned array.\n",
    "    \"\"\"\n",
    "\n",
    "    x0 = np.asarray(x0)\n",
    "\n",
    "    # For each element of x0, generate a sample of n numbers from a\n",
    "    # normal distribution.\n",
    "    r = norm.rvs(size=x0.shape + (n,), scale=delta*sqrt(dt))\n",
    "    \n",
    "    #print(len(r))\n",
    "\n",
    "    # If `out` was not given, create an output array.\n",
    "    if out is None:\n",
    "        out = np.empty(r.shape)\n",
    "        \n",
    "    #print(\"fweff\")        \n",
    "    #print(out)\n",
    "    \n",
    "    # This computes the Brownian motion by forming the cumulative sum of\n",
    "    # the random samples.\n",
    "    outNew = np.copy(out)\n",
    "    \n",
    "    np.cumsum(r, axis=-1, out=outNew)\n",
    "    \n",
    "    #print(\"fkopktioje\")\n",
    "    #print(outNew)\n",
    "    \n",
    "    if((x0[0]+outNew[0][0])**2 + (x0[1]+outNew[1][0])**2 < radius):\n",
    "        np.cumsum(r, axis=-1, out=out)\n",
    "        out += np.expand_dims(x0, axis=-1)\n",
    "        \n",
    "        return True\n",
    "    \n",
    "    #print(out)\n",
    "\n",
    "    return False"
   ]
  },
  {
   "cell_type": "code",
   "execution_count": 117,
   "metadata": {
    "collapsed": false,
    "scrolled": false
   },
   "outputs": [
    {
     "name": "stdout",
     "output_type": "stream",
     "text": [
      "Reaction at: \n",
      "3\n"
     ]
    },
    {
     "data": {
      "image/png": "[encoded data removed]",
      "text/plain": [
       "<matplotlib.figure.Figure at 0x109e62898>"
      ]
     },
     "metadata": {},
     "output_type": "display_data"
    },
    {
     "data": {
      "image/png": "[encoded data removed]",
      "text/plain": [
       "<matplotlib.figure.Figure at 0x107a6bb70>"
      ]
     },
     "metadata": {},
     "output_type": "display_data"
    }
   ],
   "source": [
    "import numpy\n",
    "from pylab import plot, show, grid, axis, xlabel, ylabel, title\n",
    "\n",
    "def main():\n",
    "\n",
    "    # The Wiener process parameter.\n",
    "    delta = 0.25\n",
    "    # Total time.\n",
    "    T = 100.0\n",
    "    # Number of steps.\n",
    "    N = 4\n",
    "    # Time step size\n",
    "    dt = T/N\n",
    "    # Initial values of x.\n",
    "    x = numpy.empty((2,N+1))\n",
    "    x[:, 0] = -0.5\n",
    "    \n",
    "    y = numpy.empty((2,N+1))\n",
    "    y[:, 0] = 0.5\n",
    "    \n",
    "    z = numpy.empty((2,N+1))\n",
    "    z[:, 0] = 0.0\n",
    "    \n",
    "    #brownian(x[:,0], N, dt, delta, out=x[:,1:])\n",
    "    #brownian(y[:,0], N, dt, delta, out=y[:,1:])\n",
    "    \n",
    "    i = 0\n",
    "    while(i!=N):\n",
    "        if(brownian(x[:,i], 1, dt, delta, 1, out=x[:,i+1:]) and brownian(y[:,i], 1, dt, delta, 1, out=y[:,i+1:]) and brownian(z[:,i], 1, dt, delta, 1, out=z[:,i+1:])):\n",
    "            i+=1\n",
    "\n",
    "\n",
    "    # Plot the 2D trajectory.\n",
    "    #plot(x[0],x[1],'b')\n",
    "    \n",
    "    for i in range(N):\n",
    "        if((x[0][i]-y[0][i])**2 + (x[1][i]-y[1][i])**2 < 0.5):\n",
    "            break\n",
    "    \n",
    "    print(\"Reaction at: \")\n",
    "    print(i)\n",
    "    \n",
    "    plot(x[0][:i+1],x[1][:i+1],'b')\n",
    "    plot(x[0][i:],x[1][i:],'g')\n",
    "    \n",
    "    plot(y[0],y[1],'r')\n",
    "    #plot(z[0],z[1],'g')\n",
    "\n",
    "    # Mark the start and end points.\n",
    "    #plot(x[0,0],x[1,0], 'go')\n",
    "    #plot(x[0,-1], x[1,-1], 'yo')\n",
    "\n",
    "    #plot(y[0,0],y[1,0], 'go')\n",
    "    #plot(y[0,-1], y[1,-1], 'yo')\n",
    "    \n",
    "    #plot(z[0,0],z[1,0], 'go')\n",
    "    #plot(z[0,-1], z[1,-1], 'yo')\n",
    "\n",
    "    # More plot decorations.\n",
    "    title('2D Brownian Motion')\n",
    "    xlabel('x', fontsize=16)\n",
    "    ylabel('y', fontsize=16)\n",
    "    axis('equal')\n",
    "    grid(True)\n",
    "    show()\n",
    "    \n",
    "    fig = plt.figure(figsize=(15,5))\n",
    "    fig.subplots_adjust(wspace = 0.5, hspace = 0.3)\n",
    "    ax1 = fig.add_subplot(1,2,1)\n",
    "\n",
    "    ax1.plot(numpy.sqrt((x[0][:i+1]-y[0][:i+1])**2 + (x[1][:i+1]-y[1][:i+1])**2), 'b-')\n",
    "    ax1.plot(numpy.sqrt((x[0][i:]-y[0][i:])**2 + (x[1][i:]-y[1][i:])**2), 'g-')\n",
    "    \n",
    "    #ax1.plot(numpy.sqrt((x[0]-z[0])**2 + (x[1]-z[1])**2), 'g-')\n",
    "    \n",
    "    \n",
    "if __name__ == \"__main__\":\n",
    "    main()\n",
    "    \n"
   ]
  },
  {
   "cell_type": "code",
   "execution_count": null,
   "metadata": {
    "collapsed": true
   },
   "outputs": [],
   "source": []
  },
  {
   "cell_type": "code",
   "execution_count": null,
   "metadata": {
    "collapsed": true
   },
   "outputs": [],
   "source": []
  }
 ],
 "metadata": {
  "kernelspec": {
   "display_name": "Python 3",
   "language": "python",
   "name": "python3"
  },
  "language_info": {
   "codemirror_mode": {
    "name": "ipython",
    "version": 3
   },
   "file_extension": ".py",
   "mimetype": "text/x-python",
   "name": "python",
   "nbconvert_exporter": "python",
   "pygments_lexer": "ipython3",
   "version": "3.4.3"
  }
 },
 "nbformat": 4,
 "nbformat_minor": 0
}
